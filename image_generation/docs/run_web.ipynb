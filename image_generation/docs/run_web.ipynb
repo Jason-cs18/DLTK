{
 "cells": [
  {
   "cell_type": "markdown",
   "metadata": {},
   "source": [
    "# Web application\n",
    "## Start a web server\n",
    "```bash\n",
    "cd ./web_develop\n",
    "uvicorn main:app --reload\n",
    "```\n",
    "## Test APIs on interactive docs\n",
    "open `http://127.0.0.1:8000/docs`\n",
    "\n",
    "## Test webui\n",
    "\n",
    "open `http://127.0.0.1:8000/`\n",
    "\n",
    "## References\n",
    "1. Putting your model into production with FastAPI and Gradio: https://blog.deploif.ai/posts/productionizing_your_model\n",
    "2. How to create a FastAPI Web App with authentication: https://samedwardes.com/2022/04/14/fastapi-webapp-with-auth/\n",
    "3. How to build a Text to Image generation app with Gradio? https://stablediffusionapi.com/blog/stable-diffusion-api/gradio-stable-diffusion-api"
   ]
  }
 ],
 "metadata": {
  "language_info": {
   "name": "python"
  }
 },
 "nbformat": 4,
 "nbformat_minor": 2
}
